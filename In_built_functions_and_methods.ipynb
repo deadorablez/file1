{
  "nbformat": 4,
  "nbformat_minor": 0,
  "metadata": {
    "colab": {
      "provenance": [],
      "authorship_tag": "ABX9TyN4QkAfWLA0//5/1FRGj6s9",
      "include_colab_link": true
    },
    "kernelspec": {
      "name": "python3",
      "display_name": "Python 3"
    },
    "language_info": {
      "name": "python"
    }
  },
  "cells": [
    {
      "cell_type": "markdown",
      "metadata": {
        "id": "view-in-github",
        "colab_type": "text"
      },
      "source": [
        "<a href=\"https://colab.research.google.com/github/deadorablez/file1/blob/main/In_built_functions_and_methods.ipynb\" target=\"_parent\"><img src=\"https://colab.research.google.com/assets/colab-badge.svg\" alt=\"Open In Colab\"/></a>"
      ]
    },
    {
      "cell_type": "code",
      "execution_count": null,
      "metadata": {
        "id": "F-Gf5Nr4XBU5"
      },
      "outputs": [],
      "source": []
    },
    {
      "cell_type": "markdown",
      "source": [
        "#Functions\n",
        " are standalone tools that can be used in any specific taks\n",
        " Ex. print(), type() etc\n",
        "\n",
        "# Methods\n",
        " speical tools for a specific task for an object {int, float,string, sets, tuple,sets,dict} like append in list - test_list.append(5) or convert string to uppercase - \"umer\".upper()\n",
        " '.'dot always shows is a mwthod"
      ],
      "metadata": {
        "id": "Lnf9v94FY8kJ"
      }
    },
    {
      "cell_type": "code",
      "source": [
        "#Taking Input from a user and assigning it to a variable\n",
        "name = input(\"what is your name\")\n",
        "print(\"Hey \" + name +\"!\")"
      ],
      "metadata": {
        "colab": {
          "base_uri": "https://localhost:8080/"
        },
        "id": "TL0PHVVybw-F",
        "outputId": "4022ca75-b2fc-487f-e625-d20edef85fd3"
      },
      "execution_count": null,
      "outputs": [
        {
          "output_type": "stream",
          "name": "stdout",
          "text": [
            "what is your nameUmer\n",
            "Hey Umer!\n"
          ]
        }
      ]
    },
    {
      "cell_type": "code",
      "source": [
        "mood = input(\"How is your mood today?\") # input always considers everything as string.\n",
        "print(\"I am feeling \" + mood + \"!\")\n"
      ],
      "metadata": {
        "colab": {
          "base_uri": "https://localhost:8080/"
        },
        "id": "HX9JQu1UdACj",
        "outputId": "9b09e189-688c-4812-9bd1-4681737c0af5"
      },
      "execution_count": null,
      "outputs": [
        {
          "output_type": "stream",
          "name": "stdout",
          "text": [
            "How is your mood today?Amazing\n",
            "I am feeling Amazing!\n"
          ]
        }
      ]
    },
    {
      "cell_type": "code",
      "source": [
        "age_str = input(\"Enter your age\")\n",
        "age = int(age_str)   #convert the string to interger\n",
        "print(\"you'll be \" + str(age+1) + \" next year\")\n"
      ],
      "metadata": {
        "colab": {
          "base_uri": "https://localhost:8080/"
        },
        "id": "UDa_p-TpKZkx",
        "outputId": "9fb1af99-301e-4297-8fe8-48329052b4aa"
      },
      "execution_count": null,
      "outputs": [
        {
          "output_type": "stream",
          "name": "stdout",
          "text": [
            "Enter your age25\n",
            "you'll be 26 next year\n"
          ]
        }
      ]
    },
    {
      "cell_type": "markdown",
      "source": [
        "#CRUD - basic oprations - Create Read Update Delete\n",
        " - done with the help of fn's and methods\n",
        "\n",
        "#1.Create\n",
        "methods - description\n",
        "list() - to create new empty list objects\n",
        "dict()\n",
        "set()\n",
        "tuple()\n",
        "str()\n",
        "int()\n",
        "\n",
        "\n",
        "\n"
      ],
      "metadata": {
        "id": "_N3cOsOdMeyC"
      }
    },
    {
      "cell_type": "code",
      "source": [
        "#create a new list object\n",
        "my_list = list([1,2,3])\n",
        "print(\"my_list - \", my_list )\n",
        "\n",
        "#create a new dictonary object\n",
        "my_dict = dict({\"name\" : \"Umer\", \"age\" : 25})\n",
        "print(\"my_dict -\", my_dict)\n",
        "\n",
        "\n",
        "#create a new set object\n",
        "my_set = set([\"apple\", \"cheyy\", \"banana\"])\n",
        "print(\"my_set -\", my_set)\n",
        "\n",
        "#create a new tuple object\n",
        "my_tupple = tuple((1,2,3,4))\n",
        "print(\"my_tupple -\", my_tupple)\n",
        "\n",
        "#create a new string object\n",
        "my_str = str(\"hello word\")\n",
        "print(\"my_str -\", my_str)\n",
        "\n",
        "#create a new integer object\n",
        "my_int = int(32)\n",
        "print(\"my_int - \", my_int)"
      ],
      "metadata": {
        "colab": {
          "base_uri": "https://localhost:8080/"
        },
        "id": "qhsmwQmHQrWo",
        "outputId": "a013f572-b794-4cc3-b160-13935d23de0c"
      },
      "execution_count": null,
      "outputs": [
        {
          "output_type": "stream",
          "name": "stdout",
          "text": [
            "my_list -  [1, 2, 3]\n",
            "my_dict - {'name': 'Umer', 'age': 25}\n",
            "my_set - {'apple', 'banana', 'cheyy'}\n",
            "my_tupple - (1, 2, 3, 4)\n",
            "my_str - hello word\n",
            "my_int -  32\n"
          ]
        }
      ]
    },
    {
      "cell_type": "markdown",
      "source": [
        "#TypeCasting or typeconversion\n",
        "converting one DT to another DT"
      ],
      "metadata": {
        "id": "8JlMxw8NVEP0"
      }
    },
    {
      "cell_type": "code",
      "source": [
        "#typecasting from int to str\n",
        "int = 42\n",
        "my_str = str(int)\n",
        "print(\"print typecaseting from int to str: \", type(int), type(my_str))"
      ],
      "metadata": {
        "colab": {
          "base_uri": "https://localhost:8080/"
        },
        "id": "K-m5vNVHVc7m",
        "outputId": "415f36a5-c5ea-4637-e2b3-c2c11bdfd7bf"
      },
      "execution_count": null,
      "outputs": [
        {
          "output_type": "stream",
          "name": "stdout",
          "text": [
            "print typecaseting from int to str:  <class 'int'> <class 'str'>\n"
          ]
        }
      ]
    },
    {
      "cell_type": "code",
      "source": [
        "#typecasting from  str to int\n",
        "my_string = '40'\n",
        "my_int = int (my_string)\n",
        "print(\"typecasting from str to int:\", type(my_string), type(my_int))\n"
      ],
      "metadata": {
        "colab": {
          "base_uri": "https://localhost:8080/",
          "height": 217
        },
        "id": "R1ZP6XQLG6lm",
        "outputId": "e06eca74-b789-4db6-afca-6618d9472a8d"
      },
      "execution_count": null,
      "outputs": [
        {
          "output_type": "error",
          "ename": "TypeError",
          "evalue": "ignored",
          "traceback": [
            "\u001b[0;31m---------------------------------------------------------------------------\u001b[0m",
            "\u001b[0;31mTypeError\u001b[0m                                 Traceback (most recent call last)",
            "\u001b[0;32m<ipython-input-17-e7ebc3721205>\u001b[0m in \u001b[0;36m<cell line: 3>\u001b[0;34m()\u001b[0m\n\u001b[1;32m      1\u001b[0m \u001b[0;31m#typecasting from  str to int\u001b[0m\u001b[0;34m\u001b[0m\u001b[0;34m\u001b[0m\u001b[0m\n\u001b[1;32m      2\u001b[0m \u001b[0mmy_string\u001b[0m \u001b[0;34m=\u001b[0m \u001b[0;34m'40'\u001b[0m\u001b[0;34m\u001b[0m\u001b[0;34m\u001b[0m\u001b[0m\n\u001b[0;32m----> 3\u001b[0;31m \u001b[0mmy_int\u001b[0m \u001b[0;34m=\u001b[0m \u001b[0mint\u001b[0m \u001b[0;34m(\u001b[0m\u001b[0;34m\"my_string\"\u001b[0m\u001b[0;34m)\u001b[0m\u001b[0;34m\u001b[0m\u001b[0;34m\u001b[0m\u001b[0m\n\u001b[0m\u001b[1;32m      4\u001b[0m \u001b[0mprint\u001b[0m\u001b[0;34m(\u001b[0m\u001b[0;34m\"typecasting from str to int:\"\u001b[0m\u001b[0;34m,\u001b[0m \u001b[0mtype\u001b[0m\u001b[0;34m(\u001b[0m\u001b[0mmy_string\u001b[0m\u001b[0;34m)\u001b[0m\u001b[0;34m,\u001b[0m \u001b[0mtype\u001b[0m\u001b[0;34m(\u001b[0m\u001b[0mmy_int\u001b[0m\u001b[0;34m)\u001b[0m\u001b[0;34m)\u001b[0m\u001b[0;34m\u001b[0m\u001b[0;34m\u001b[0m\u001b[0m\n",
            "\u001b[0;31mTypeError\u001b[0m: 'int' object is not callable"
          ]
        }
      ]
    },
    {
      "cell_type": "code",
      "source": [
        "#list to set\n",
        "list = [2, 4,  6, 7]\n",
        "my_set = set(list)\n",
        "print(\"typecasting of list to set : \", type(list), type(my_set))\n"
      ],
      "metadata": {
        "colab": {
          "base_uri": "https://localhost:8080/"
        },
        "id": "88yV0wTbImkr",
        "outputId": "1dee7880-f45d-4af8-cab6-950a75406627"
      },
      "execution_count": null,
      "outputs": [
        {
          "output_type": "stream",
          "name": "stdout",
          "text": [
            "typecasting of list to set :  <class 'list'> <class 'set'>\n"
          ]
        }
      ]
    },
    {
      "cell_type": "markdown",
      "source": [
        "#2.Read\n",
        "read or retrieve data from an object\n",
        "Methods:\n",
        "**len()** -gives total no of items in an objects and is used for sequenntial DT - Ex. string, tuple, list,sets and dict.\n",
        "\n",
        "**index()** -  returns the index of occurance of first element in a list - Ex. list\n",
        "\n",
        "**get()** -use to fetch value of key in dict if key not present gives null Ex. Dict only\n",
        "\n",
        "**find()** returns the index of occurance of first substring in a string, if not present retunr -1 Ex. for string\n",
        "\n",
        "**count()** gives the no of occurance of a given element Ex. list, tuple ,str\n"
      ],
      "metadata": {
        "id": "pAIBJDtaKsW8"
      }
    },
    {
      "cell_type": "code",
      "source": [
        "#length of list '\n",
        "list = [1,3,5,7,9,11]\n",
        "print(\"length of the list : \", len(list))"
      ],
      "metadata": {
        "colab": {
          "base_uri": "https://localhost:8080/"
        },
        "id": "MNeoN-WXNPRu",
        "outputId": "eccd1661-6ef7-4ef0-ba82-d4ab0f2b1cd4"
      },
      "execution_count": null,
      "outputs": [
        {
          "output_type": "stream",
          "name": "stdout",
          "text": [
            "length of the list :  6\n"
          ]
        }
      ]
    },
    {
      "cell_type": "code",
      "source": [
        "#index of element in list\n",
        "list = [1,3,5,7,9,11]\n",
        "index = list.index(9)\n",
        "print(\"index of the element(9):\", index )"
      ],
      "metadata": {
        "colab": {
          "base_uri": "https://localhost:8080/"
        },
        "id": "Jqm8vqt1N_Ru",
        "outputId": "909f96ba-f824-47c0-a89a-2a0eca47ff80"
      },
      "execution_count": null,
      "outputs": [
        {
          "output_type": "stream",
          "name": "stdout",
          "text": [
            "index of the element(9): 4\n"
          ]
        }
      ]
    },
    {
      "cell_type": "code",
      "source": [
        "#retrieve value from dict() using get()\n",
        "my_dict = dict({\"name\" : \"Umer\", \"age\" : 25, \"city\" : \"sringar\"})\n",
        "city = my_dict.get(\"city\")\n",
        "print(\"city: \", city)"
      ],
      "metadata": {
        "colab": {
          "base_uri": "https://localhost:8080/"
        },
        "id": "JMNyqYsIOzzn",
        "outputId": "be533ab5-1d0d-4720-ddd8-f681512190d6"
      },
      "execution_count": null,
      "outputs": [
        {
          "output_type": "stream",
          "name": "stdout",
          "text": [
            "city:  sringar\n"
          ]
        }
      ]
    },
    {
      "cell_type": "code",
      "source": [
        "#retrieving the index of a substring from a string\n",
        "my_string = \"Hello World\"\n",
        "index = my_string.find(\"World\")\n",
        "print(\"index of the World :\", index)"
      ],
      "metadata": {
        "colab": {
          "base_uri": "https://localhost:8080/"
        },
        "id": "_1meJZqvQFsD",
        "outputId": "a4af9666-0d03-4b06-a443-bd9b51cd6b65"
      },
      "execution_count": null,
      "outputs": [
        {
          "output_type": "stream",
          "name": "stdout",
          "text": [
            "index of the World : 6\n"
          ]
        }
      ]
    },
    {
      "cell_type": "code",
      "source": [
        "#count of an element in a list\n",
        "list = [1,3,5,7,9,11,9,6,3,2,9]\n",
        "count = list.count(9)\n",
        "print(\"Count of the element 9 :\", count)\n"
      ],
      "metadata": {
        "colab": {
          "base_uri": "https://localhost:8080/"
        },
        "id": "hHvaV7xrQ5Rz",
        "outputId": "73d72468-7f55-4352-a9a2-4e11cd0daf8f"
      },
      "execution_count": null,
      "outputs": [
        {
          "output_type": "stream",
          "name": "stdout",
          "text": [
            "Count of the element 9 : 3\n"
          ]
        }
      ]
    },
    {
      "cell_type": "markdown",
      "source": [
        "#3.Update\n",
        "used to modify exisiting object ot DT\n",
        "\n",
        "**sorted()** sort the list, tupple or set in ⏬ ⏫\n",
        "\n",
        "**append()** add an element to the end of list\n",
        "\n",
        "**update()** add a new key value pair to a dictonary\n",
        "\n",
        "**replace()** for string - replace a string with a new substring\n",
        "\n",
        "**extend()** add mulltiple elemts to a list, tupple or set\n"
      ],
      "metadata": {
        "id": "jx5uVBTGRnW_"
      }
    },
    {
      "cell_type": "code",
      "source": [
        "#sort list in ascending order\n",
        "list = [1,3,5,7,9,11,9,6,3,2,9]\n",
        "sorted_list = sorted(list)\n",
        "print(\"Original list :\", list)\n",
        "print(\"Sorted list : \", sorted_list)"
      ],
      "metadata": {
        "colab": {
          "base_uri": "https://localhost:8080/"
        },
        "id": "AxL4jeZVT4St",
        "outputId": "6cc9941e-fdae-497f-eb97-e8654121a7e9"
      },
      "execution_count": null,
      "outputs": [
        {
          "output_type": "stream",
          "name": "stdout",
          "text": [
            "Original list : [1, 3, 5, 7, 9, 11, 9, 6, 3, 2, 9]\n",
            "Sorted list :  [1, 2, 3, 3, 5, 6, 7, 9, 9, 9, 11]\n"
          ]
        }
      ]
    },
    {
      "cell_type": "code",
      "source": [
        "#sort list in decending  order\n",
        "list = [1,3,5,7,9,11,9,6,3,2,9]\n",
        "sorted_list = sorted(list, reverse=True)\n",
        "print(\"Original list :\", list)\n",
        "print(\"Sorted list : \", sorted_list)"
      ],
      "metadata": {
        "colab": {
          "base_uri": "https://localhost:8080/"
        },
        "id": "dHgdBOfRUkM0",
        "outputId": "c3cb42ba-df7d-4f52-9b19-f49f74962059"
      },
      "execution_count": null,
      "outputs": [
        {
          "output_type": "stream",
          "name": "stdout",
          "text": [
            "Original list : [1, 3, 5, 7, 9, 11, 9, 6, 3, 2, 9]\n",
            "Sorted list :  [11, 9, 9, 9, 7, 6, 5, 3, 3, 2, 1]\n"
          ]
        }
      ]
    },
    {
      "cell_type": "code",
      "source": [
        "#append - add a new element at the end of the list\n",
        "list = [1,3,5,7,9,11]\n",
        "print(\"Original list: \", list)\n",
        "list.append (5)\n",
        "print(\"Apended list :\", list)"
      ],
      "metadata": {
        "colab": {
          "base_uri": "https://localhost:8080/"
        },
        "id": "ngNJBpI_VCW6",
        "outputId": "72b33821-af50-4a5a-857f-5f9606fe1874"
      },
      "execution_count": null,
      "outputs": [
        {
          "output_type": "stream",
          "name": "stdout",
          "text": [
            "Original list:  [1, 3, 5, 7, 9, 11]\n",
            "Apended list : [1, 3, 5, 7, 9, 11, 5]\n"
          ]
        }
      ]
    },
    {
      "cell_type": "code",
      "source": [
        "#update() - add or update key value pair to a dictionary\n",
        "my_dict = dict({\"name\" : \"Umer\", \"age\" : 25, \"city\" : \"sringar\"})\n",
        "print(\"Original dictionary: \", my_dict)\n",
        "my_dict.update({\"age\" : 29, \"gender\" : \"male\"})\n",
        "print(\"New Dictionary after update :\", my_dict)\n"
      ],
      "metadata": {
        "colab": {
          "base_uri": "https://localhost:8080/"
        },
        "id": "eARCpftZWMh0",
        "outputId": "0d41d268-20a6-4966-bf0b-a5f4e25769f2"
      },
      "execution_count": null,
      "outputs": [
        {
          "output_type": "stream",
          "name": "stdout",
          "text": [
            "Original dictionary:  {'name': 'Umer', 'age': 25, 'city': 'sringar'}\n",
            "New Dictionary after update : {'name': 'Umer', 'age': 29, 'city': 'sringar', 'gender': 'male'}\n"
          ]
        }
      ]
    },
    {
      "cell_type": "code",
      "source": [
        "#replace() - existing substring with a new substring\n",
        "my_string = \"Hello World\"\n",
        "print(\"Original string :\", my_string)\n",
        "new_string = my_string.replace(\"Hello\", \"Hey\")\n",
        "print(\"New String after relace :\", new_string)"
      ],
      "metadata": {
        "colab": {
          "base_uri": "https://localhost:8080/"
        },
        "id": "INlquTUEXU_R",
        "outputId": "60640e46-b843-460a-9777-acf98b248550"
      },
      "execution_count": null,
      "outputs": [
        {
          "output_type": "stream",
          "name": "stdout",
          "text": [
            "Original string : Hello World\n",
            "New String after relace : Hey World\n"
          ]
        }
      ]
    },
    {
      "cell_type": "code",
      "source": [
        "#extend() - add multiple elemts to a list\n",
        "list = [1,3,5]\n",
        "print(\"Original List :\", list)\n",
        "list.extend([4,7,9,11])\n",
        "print(\"Extended list :\", list)"
      ],
      "metadata": {
        "colab": {
          "base_uri": "https://localhost:8080/"
        },
        "id": "WpCMaN1TYJ5V",
        "outputId": "0559d1a6-21e6-4cb0-ae22-6bfa7468a28a"
      },
      "execution_count": null,
      "outputs": [
        {
          "output_type": "stream",
          "name": "stdout",
          "text": [
            "Original List : [1, 3, 5]\n",
            "Extended list : [1, 3, 5, 4, 7, 9, 11]\n"
          ]
        }
      ]
    },
    {
      "cell_type": "markdown",
      "source": [
        "#Delete\n",
        "\n",
        "**del()** deletes a specific var or object\n",
        "\n",
        "**remove()** removes a specific object from list\n",
        "\n",
        "**pop()** remove last element from list and returns the removed element as result\n",
        "\n",
        "**clear()** removes all elements from a dictionary\n",
        "\n",
        "**discard()** removesa specific element from a set, if exists"
      ],
      "metadata": {
        "id": "aNCB-Xo5ZPzr"
      }
    },
    {
      "cell_type": "code",
      "source": [
        "#del()\n",
        "a = 5\n",
        "del (a)\n",
        "print(a) # would result in error as we are deleting it\n",
        "\n",
        "\n"
      ],
      "metadata": {
        "id": "z_wnSdICa0NX"
      },
      "execution_count": null,
      "outputs": []
    },
    {
      "cell_type": "code",
      "source": [
        "#remove()\n",
        "list = [1,2,3,4]\n",
        "list.remove(3)\n",
        "print(list)"
      ],
      "metadata": {
        "colab": {
          "base_uri": "https://localhost:8080/"
        },
        "id": "0pcu4yd5bpVi",
        "outputId": "aaa8c4fe-d419-4fbd-b995-6033a44a678c"
      },
      "execution_count": null,
      "outputs": [
        {
          "output_type": "stream",
          "name": "stdout",
          "text": [
            "[1, 2, 4]\n"
          ]
        }
      ]
    },
    {
      "cell_type": "code",
      "source": [
        "#pop()\n",
        "my_list = [2,4,6,7,9]\n",
        "my_list.pop()\n",
        "print(\"Default one removes last element:\", my_list)\n",
        "\n",
        "poped_element_3 = my_list.pop(2)\n",
        "print(\"When giving the index as 2 here :\", poped_element_3)\n",
        "\n"
      ],
      "metadata": {
        "colab": {
          "base_uri": "https://localhost:8080/"
        },
        "id": "thDEA9FHb8VZ",
        "outputId": "25c26bce-6034-49d6-c231-76ab2180cdb5"
      },
      "execution_count": null,
      "outputs": [
        {
          "output_type": "stream",
          "name": "stdout",
          "text": [
            "Default one removes last element: [2, 4, 6, 7]\n",
            "When giving the index as 2 here : 6\n"
          ]
        }
      ]
    },
    {
      "cell_type": "code",
      "source": [
        "#clear()\n",
        "my_dict = dict({\"name\" : \"Umer\", \"age\" : 25, \"city\" : \"sringar\"})\n",
        "my_dict.clear()\n",
        "print(my_dict)"
      ],
      "metadata": {
        "colab": {
          "base_uri": "https://localhost:8080/"
        },
        "id": "ZNs4KTK-eg3c",
        "outputId": "3749707a-622c-4946-b660-dba6bc197012"
      },
      "execution_count": null,
      "outputs": [
        {
          "output_type": "stream",
          "name": "stdout",
          "text": [
            "{}\n"
          ]
        }
      ]
    },
    {
      "cell_type": "code",
      "source": [
        "#discard()\n",
        "my_set = {1,2,3,4,5}\n",
        "my_set.discard(4)\n",
        "print(my_set)"
      ],
      "metadata": {
        "colab": {
          "base_uri": "https://localhost:8080/"
        },
        "id": "s8OebIA9erl4",
        "outputId": "e7b340f6-a7a9-4cd3-905f-77b65547536e"
      },
      "execution_count": null,
      "outputs": [
        {
          "output_type": "stream",
          "name": "stdout",
          "text": [
            "{1, 2, 3, 5}\n"
          ]
        }
      ]
    },
    {
      "cell_type": "markdown",
      "source": [
        "#Miscillenous Functions\n",
        "\n",
        "**STRINGS**\n",
        "\n",
        "string.upper() - uppercase\n",
        "\n",
        "string.lower()  -lowercase\n",
        "\n",
        "string.title()  - first letter of each word in uppercase\n",
        "\n",
        "string.replace  - replace old substring with a new substring\n",
        "\n",
        "string.split(seperator) - splits string at separator\n",
        "\n",
        "string.join(iterable) - merge two strings\n",
        "\n",
        "string.isnumeric - is True if all characters present arr numbers else returns False\n"
      ],
      "metadata": {
        "id": "pVppmnCafTFX"
      }
    },
    {
      "cell_type": "code",
      "source": [
        "string = \"It is amazing day\"\n",
        "new_string = string.upper()\n",
        "print(new_string)"
      ],
      "metadata": {
        "colab": {
          "base_uri": "https://localhost:8080/"
        },
        "id": "J9fT2vtUg6eJ",
        "outputId": "4e142f6c-902d-4ba8-d1e8-d521fc73b950"
      },
      "execution_count": null,
      "outputs": [
        {
          "output_type": "stream",
          "name": "stdout",
          "text": [
            "IT IS AMAZING DAY\n"
          ]
        }
      ]
    },
    {
      "cell_type": "code",
      "source": [
        "string = \"IT IS AMAZING DAY\"\n",
        "string_new = string.lower()\n",
        "\n",
        "print(string_new)\n",
        "\n"
      ],
      "metadata": {
        "colab": {
          "base_uri": "https://localhost:8080/"
        },
        "id": "qH0lBnD1hPS0",
        "outputId": "db3ca53e-f908-4e60-ee45-be9b3389c52b"
      },
      "execution_count": null,
      "outputs": [
        {
          "output_type": "stream",
          "name": "stdout",
          "text": [
            "it is amazing day\n"
          ]
        }
      ]
    },
    {
      "cell_type": "code",
      "source": [
        "string = \"It is amazing day\"\n",
        "new_string = string.title()\n",
        "print(new_string)"
      ],
      "metadata": {
        "colab": {
          "base_uri": "https://localhost:8080/"
        },
        "id": "RsSM9RV_iBcK",
        "outputId": "d0ea4132-79fe-47c1-d71a-c79cf6607ff7"
      },
      "execution_count": null,
      "outputs": [
        {
          "output_type": "stream",
          "name": "stdout",
          "text": [
            "It Is Amazing Day\n"
          ]
        }
      ]
    },
    {
      "cell_type": "code",
      "source": [
        "string = \"It is amazing day\"\n",
        "\n",
        "new_string = string.replace(\"Awesome\", \"Amazing\")\n",
        "\n",
        "print(new_string)\n"
      ],
      "metadata": {
        "colab": {
          "base_uri": "https://localhost:8080/"
        },
        "id": "tjcnjkN7kLJq",
        "outputId": "b178bda8-c023-424c-e347-30326d862585"
      },
      "execution_count": null,
      "outputs": [
        {
          "output_type": "stream",
          "name": "stdout",
          "text": [
            "It is amazing day\n"
          ]
        }
      ]
    },
    {
      "cell_type": "code",
      "source": [
        "string = \"It is amazing day\"\n",
        "\n",
        "new_string = string.split(\"is\")\n",
        "\n",
        "print(new_string)\n"
      ],
      "metadata": {
        "colab": {
          "base_uri": "https://localhost:8080/"
        },
        "id": "uQukckFhlIGl",
        "outputId": "58edb94d-4893-4a48-f4d1-0f5b5677ccc6"
      },
      "execution_count": null,
      "outputs": [
        {
          "output_type": "stream",
          "name": "stdout",
          "text": [
            "['It ', ' amazing day']\n"
          ]
        }
      ]
    },
    {
      "cell_type": "code",
      "source": [
        "string = \"It is amazing day\"\n",
        "\n",
        "new_string = string.split(\"is\")\n",
        "\n",
        "print(new_string)"
      ],
      "metadata": {
        "id": "0VINYTWTlaMI"
      },
      "execution_count": null,
      "outputs": []
    },
    {
      "cell_type": "code",
      "source": [
        "string = \"It is amazing day\"\n",
        "\n",
        "new_string = \"*\" . join (string)\n",
        "\n",
        "print(new_string)"
      ],
      "metadata": {
        "colab": {
          "base_uri": "https://localhost:8080/"
        },
        "id": "txzhWORYmHoX",
        "outputId": "c470a943-b865-4ba5-ee46-73ce4a5761aa"
      },
      "execution_count": null,
      "outputs": [
        {
          "output_type": "stream",
          "name": "stdout",
          "text": [
            "I*t* *i*s* *a*m*a*z*i*n*g* *d*a*y\n"
          ]
        }
      ]
    },
    {
      "cell_type": "code",
      "source": [
        "#insert() for list\n",
        "list = [2, 4, 6, 8, 10]\n",
        "list.insert(3, 99) #insert 99 at index 3\n",
        "print(list)\n",
        "list.reverse() #reverse order\n",
        "print(list)\n",
        "list.copy() #create copy\n",
        "print(list)\n",
        ""
      ],
      "metadata": {
        "colab": {
          "base_uri": "https://localhost:8080/"
        },
        "id": "vibujjWAochu",
        "outputId": "83204a6f-c8db-45e5-d3a9-8857f29777de"
      },
      "execution_count": null,
      "outputs": [
        {
          "output_type": "stream",
          "name": "stdout",
          "text": [
            "[2, 4, 6, 99, 8, 10]\n",
            "[10, 8, 99, 6, 4, 2]\n",
            "[10, 8, 99, 6, 4, 2]\n"
          ]
        }
      ]
    },
    {
      "cell_type": "markdown",
      "source": [
        "#SET\n",
        "\n",
        "set.add(item)\n",
        "\n",
        "set.union(set2)\n",
        "\n",
        "set.intersection(set2)\n",
        "\n",
        "set.difference(set2)\n",
        "\n",
        "set.symmetric_difference(set2) -  not present in both the sets\n",
        "\n",
        "set.copy()\n",
        "\n",
        "\n",
        "\n"
      ],
      "metadata": {
        "id": "UJVlPlQzqmRw"
      }
    },
    {
      "cell_type": "markdown",
      "source": [
        "#Dictionary\n",
        "\n",
        "dict.keys()\n",
        "\n",
        "dict.values()\n",
        "\n",
        "dict.items() - returns all key value pair\n",
        "\n",
        "dict.get(key,default)  - can get a particular key"
      ],
      "metadata": {
        "id": "aQwTW-m2thBJ"
      }
    }
  ]
}