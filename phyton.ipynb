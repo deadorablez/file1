{
  "cells": [
    {
      "cell_type": "markdown",
      "metadata": {
        "id": "view-in-github",
        "colab_type": "text"
      },
      "source": [
        "<a href=\"https://colab.research.google.com/github/deadorablez/file1/blob/main/phyton.ipynb\" target=\"_parent\"><img src=\"https://colab.research.google.com/assets/colab-badge.svg\" alt=\"Open In Colab\"/></a>"
      ]
    },
    {
      "cell_type": "code",
      "execution_count": null,
      "metadata": {
        "colab": {
          "base_uri": "https://localhost:8080/"
        },
        "id": "ekIrO4Q4VZru",
        "outputId": "ecca262b-2e40-4848-f770-b3614d47a9ee"
      },
      "outputs": [
        {
          "name": "stdout",
          "output_type": "stream",
          "text": [
            "hi all\n"
          ]
        }
      ],
      "source": [
        "# a = 5\n",
        "print('hi all')\n",
        "# b = 3\n",
        "# c = a+b\n",
        "# print(c)"
      ]
    },
    {
      "cell_type": "code",
      "execution_count": null,
      "metadata": {
        "id": "JloONfftxz96"
      },
      "outputs": [],
      "source": []
    },
    {
      "cell_type": "code",
      "execution_count": null,
      "metadata": {
        "colab": {
          "base_uri": "https://localhost:8080/",
          "height": 35
        },
        "id": "cUSJdzZBrN74",
        "outputId": "54912a42-b6a1-48f8-9e22-e16d324693cf"
      },
      "outputs": [
        {
          "data": {
            "application/vnd.google.colaboratory.intrinsic+json": {
              "type": "string"
            },
            "text/plain": [
              "'UMER HAS ABLITY TO DO IT'"
            ]
          },
          "execution_count": 3,
          "metadata": {},
          "output_type": "execute_result"
        }
      ],
      "source": [
        "a3 = \"Umer has ablity to DO it\"\n",
        "a3.lower()\n",
        "a3.upper()\n"
      ]
    },
    {
      "cell_type": "code",
      "execution_count": null,
      "metadata": {
        "colab": {
          "base_uri": "https://localhost:8080/",
          "height": 130
        },
        "id": "EUqQqR7oNAT6",
        "outputId": "f9c1a0f9-c18c-4b7c-bf34-f2526760ef20"
      },
      "outputs": [
        {
          "ename": "IndentationError",
          "evalue": "ignored",
          "output_type": "error",
          "traceback": [
            "\u001b[0;36m  File \u001b[0;32m\"<ipython-input-21-30a0477a58f3>\"\u001b[0;36m, line \u001b[0;32m4\u001b[0m\n\u001b[0;31m    int a = 25000\u001b[0m\n\u001b[0m    ^\u001b[0m\n\u001b[0;31mIndentationError\u001b[0m\u001b[0;31m:\u001b[0m unexpected indent\n"
          ]
        }
      ],
      "source": [
        "# R principle amount = 25000 Time = 2 year 7% = rate of interest\n",
        "# s principle amount = 15000  rate of interrest = 12%\n",
        "\n",
        " int a = 25000\n",
        "int t = 2\n",
        "int = r = 0.7\n",
        " C_I = a*(1 + r)**2\n",
        " print = C_I\n"
      ]
    },
    {
      "cell_type": "code",
      "execution_count": null,
      "metadata": {
        "id": "HNqjW0w5SPiG"
      },
      "outputs": [],
      "source": [
        "#take an input from a user and see if it an even or odd\n",
        "print(\"input some integer number\")\n",
        "a = int(input())\n",
        "reminder = a%2 == 0\n",
        "print(\"reminder = \", reminder)\n",
        "print(\"datatype of the reminder =\", type(reminder))\n",
        "if (reminder):\n",
        "  print(\"Even\")\n",
        "else :\n",
        "  print(\"odd\")"
      ]
    },
    {
      "cell_type": "code",
      "execution_count": null,
      "metadata": {
        "colab": {
          "base_uri": "https://localhost:8080/"
        },
        "id": "0XYld_CmaSLA",
        "outputId": "6bd3179a-6aeb-424a-8c51-74320f1e3c93"
      },
      "outputs": [
        {
          "name": "stdout",
          "output_type": "stream",
          "text": [
            "two numbers from the user\n",
            "enter first number52\n",
            "enter second number39\n",
            "century\n"
          ]
        }
      ],
      "source": [
        "print(\"two numbers from the user\")\n",
        "\n",
        "a = int(input(\"enter first number\"))\n",
        "b = int(input(\"enter second number\"))\n",
        "result = (a+b) <= 100\n",
        "if result:\n",
        "  print(\"century\")\n",
        "else:\n",
        "  print(\"failed\")"
      ]
    },
    {
      "cell_type": "code",
      "execution_count": null,
      "metadata": {
        "colab": {
          "base_uri": "https://localhost:8080/"
        },
        "id": "-gNUizcSeawu",
        "outputId": "3a169d01-9330-459c-ac18-523f47816142"
      },
      "outputs": [
        {
          "name": "stdout",
          "output_type": "stream",
          "text": [
            "KKr word there in the location =  22\n"
          ]
        }
      ],
      "source": [
        "my_string = (\"today is the match of KKR in IPL 2023\")\n",
        "print(\"KKr word there in the location = \", my_string.find(\"KKR\"))"
      ]
    },
    {
      "cell_type": "code",
      "execution_count": null,
      "metadata": {
        "colab": {
          "base_uri": "https://localhost:8080/"
        },
        "id": "7SNigT4sl4Pp",
        "outputId": "7d0dbc8d-b661-4f9f-b8f5-cfa7065c7564"
      },
      "outputs": [
        {
          "data": {
            "text/plain": [
              "3"
            ]
          },
          "execution_count": 17,
          "metadata": {},
          "output_type": "execute_result"
        }
      ],
      "source": [
        "s2 = \"hey you are doing awesome work but the work hasn't finished yet so make sure you finsidh the work which you have started\"\n",
        "s2.count(\"work\")\n"
      ]
    },
    {
      "cell_type": "code",
      "execution_count": null,
      "metadata": {
        "colab": {
          "base_uri": "https://localhost:8080/",
          "height": 35
        },
        "id": "_YCiEDy8sE9L",
        "outputId": "22e93a3f-f53c-4752-a94a-b3570ab22ac6"
      },
      "outputs": [
        {
          "data": {
            "application/vnd.google.colaboratory.intrinsic+json": {
              "type": "string"
            },
            "text/plain": [
              "'this is  day 2 of c'"
            ]
          },
          "execution_count": 7,
          "metadata": {},
          "output_type": "execute_result"
        }
      ],
      "source": [
        "#replace substring with another\n",
        "#this is  day 2 of python.\n",
        "#rreplace \"python\" with C.\n",
        "#resut \"this is day 2 of C\"\n",
        "demo_s1 = \"this is  day 2 of python\"\n",
        "demo_s1.replace(\"python\",\"c\")"
      ]
    },
    {
      "cell_type": "code",
      "execution_count": null,
      "metadata": {
        "id": "1lox3y7EuAEq"
      },
      "outputs": [],
      "source": []
    },
    {
      "cell_type": "markdown",
      "metadata": {
        "id": "w6KgqqvYuLfa"
      },
      "source": [
        "#can you store all ages of the students in class\n",
        "#can you store all names of the students in class.\n"
      ]
    },
    {
      "cell_type": "code",
      "execution_count": null,
      "metadata": {
        "colab": {
          "base_uri": "https://localhost:8080/"
        },
        "id": "SFwL_wNhuYrP",
        "outputId": "f118f543-fbd4-43c8-8f3f-aa24c4587046"
      },
      "outputs": [
        {
          "data": {
            "text/plain": [
              "203"
            ]
          },
          "execution_count": 8,
          "metadata": {},
          "output_type": "execute_result"
        }
      ],
      "source": [
        "ages = [24,36,21,34,23,32,33 ] #[] madatory in python to understand list\n",
        "sum(ages)\n",
        "#above list is ordered or sequential data strucutre\n",
        "#list elements accessed via locaion or index\n",
        "\n"
      ]
    },
    {
      "cell_type": "code",
      "execution_count": null,
      "metadata": {
        "colab": {
          "base_uri": "https://localhost:8080/"
        },
        "id": "ThR4JhTbx6pl",
        "outputId": "550ff655-987f-4e8b-ec3d-511d430fd66a"
      },
      "outputs": [
        {
          "name": "stdout",
          "output_type": "stream",
          "text": [
            "21\n"
          ]
        }
      ],
      "source": [
        "#ex. we have to print any particular value - 21\n",
        "#list is based on indexes\n",
        "#24 is on 0th, 36 is 1st, 21 is in 2nd location, and so on\n",
        "#21 is on 2nd location\n",
        "print(ages[2])\n"
      ]
    },
    {
      "cell_type": "code",
      "execution_count": null,
      "metadata": {
        "id": "8tBHxZAZzjAZ"
      },
      "outputs": [],
      "source": [
        "names = [\"umer\",\"akbar\",\"yawer\",\"shaban\"]\n",
        "#can store float or boolean as well.\n"
      ]
    },
    {
      "cell_type": "code",
      "execution_count": null,
      "metadata": {
        "id": "Xw5SDpmK1VXb"
      },
      "outputs": [],
      "source": []
    },
    {
      "cell_type": "markdown",
      "metadata": {
        "id": "9s2d4rzr1X1t"
      },
      "source": [
        "**list** once delcleared can be modified - we can add, delete, insert new value or sort etc\n",
        "there are built in fn's to do the same.... \"mutalablity of data type\"\n",
        "\n",
        "#tuple\n",
        "tupple is similar to list\n",
        "only difference - tupple is immutable - once declered can't be changed.\n",
        "- when need to store constants or when any other external module may accidently change the values and to stop that we use tupple. (why use tupple\n",
        "\n",
        "```\n",
        "# This is formatted as code\n",
        "```\n",
        "\n",
        ")"
      ]
    },
    {
      "cell_type": "code",
      "source": [],
      "metadata": {
        "id": "BsxXugydl3uL"
      },
      "execution_count": null,
      "outputs": []
    },
    {
      "cell_type": "markdown",
      "metadata": {
        "id": "ha1vyznN3i3M"
      },
      "source": [
        "\\\\Probelm in **List** - if we have to store vaues correosponding (mapping) to some other value\n",
        "**List** doesn't work there and we need the **Dictonary**\n",
        "Dictonary------(key:value)pairs\n",
        "#Dictionary key should be unique and can't be duplicate."
      ]
    },
    {
      "cell_type": "code",
      "execution_count": null,
      "metadata": {
        "colab": {
          "base_uri": "https://localhost:8080/"
        },
        "id": "Su9qIbxS4Ezp",
        "outputId": "3c711415-ff8a-4f83-8059-1effe171107c"
      },
      "outputs": [
        {
          "name": "stdout",
          "output_type": "stream",
          "text": [
            "25\n"
          ]
        }
      ],
      "source": [
        "ages_dict = {\"umer\":25, \"utsab:36,\"\"yawer\":28} #always put dic in {} bracket and {K:V}\n",
        "#accessing the value age for a name\n",
        "#won't use postion but will use key.\n",
        "print(ages_dict[\"umer\"])"
      ]
    },
    {
      "cell_type": "code",
      "execution_count": null,
      "metadata": {
        "colab": {
          "base_uri": "https://localhost:8080/"
        },
        "id": "PofVgr5dnOpu",
        "outputId": "40558623-99a7-4a84-daf2-53fc94eeb929"
      },
      "outputs": [
        {
          "output_type": "stream",
          "name": "stdout",
          "text": [
            "[89, 56, 45]\n"
          ]
        }
      ],
      "source": [
        "ages_section_dict = {\"sec1\": [12,20,30,25], \"sec2\": [25,35,65,45], \"sec3\": [89,56,45]}\n",
        "print(ages_section_dict [\"sec3\"])"
      ]
    },
    {
      "cell_type": "markdown",
      "source": [
        "#example for compasrison oprators\n",
        "== equality\n",
        "!= inequality"
      ],
      "metadata": {
        "id": "gxcHINi8eUMT"
      }
    },
    {
      "cell_type": "code",
      "source": [
        "basket1 = 12\n",
        "basket2 = 8\n",
        "print(basket1 > basket2)\n",
        "print(basket2 < basket1)\n",
        "print(basket1 == basket2)\n",
        "print(basket2 != basket1)"
      ],
      "metadata": {
        "id": "H108bLE_1AEY",
        "colab": {
          "base_uri": "https://localhost:8080/"
        },
        "outputId": "3fddd98c-31ba-4c7b-f741-cb619c8cfcf7"
      },
      "execution_count": null,
      "outputs": [
        {
          "output_type": "stream",
          "name": "stdout",
          "text": [
            "True\n",
            "True\n",
            "False\n",
            "True\n"
          ]
        }
      ]
    },
    {
      "cell_type": "markdown",
      "source": [
        "#example for logical oprator\n",
        "#AND, OR and NOT\n"
      ],
      "metadata": {
        "id": "m7XcIs4aeLLf"
      }
    },
    {
      "cell_type": "code",
      "source": [
        "name = \"ravi\"\n",
        "skill = \"python\"\n",
        "print ((name == \"ravi\") and (skill == \"python\")) ##True and true\n",
        "print((name == \"ravi\") and (skill == \"java\")) ##True and false\n",
        "print((name == \"ram\") and (skill == \"python\")) ##false and true\n",
        "print((name ==\"ram\") and (skill == \"java\")) ##false and false\n",
        "\n",
        "\n"
      ],
      "metadata": {
        "colab": {
          "base_uri": "https://localhost:8080/"
        },
        "id": "qwvPiTANdTo2",
        "outputId": "4edf0b64-d089-4a6b-a268-d5142e0604da"
      },
      "execution_count": null,
      "outputs": [
        {
          "output_type": "stream",
          "name": "stdout",
          "text": [
            "True\n",
            "False\n",
            "False\n",
            "False\n"
          ]
        }
      ]
    },
    {
      "cell_type": "code",
      "source": [
        "x = 5\n",
        "y = 10\n",
        "z = 5\n",
        "print((x < y) and (x == z))\n",
        "print((x > y) or (x == z))\n",
        "print(not ( x==z ))"
      ],
      "metadata": {
        "colab": {
          "base_uri": "https://localhost:8080/"
        },
        "id": "b4VpsKaSfNoP",
        "outputId": "1bf7dc09-bfc1-44a2-e975-04db9a4fa180"
      },
      "execution_count": null,
      "outputs": [
        {
          "output_type": "stream",
          "name": "stdout",
          "text": [
            "True\n",
            "True\n",
            "False\n"
          ]
        }
      ]
    },
    {
      "cell_type": "code",
      "source": [
        "a = 1\n",
        "print(type(a))"
      ],
      "metadata": {
        "colab": {
          "base_uri": "https://localhost:8080/"
        },
        "id": "mcZbzf0CQHmq",
        "outputId": "73f3d6c4-f87e-49e9-8fab-b14164883c36"
      },
      "execution_count": null,
      "outputs": [
        {
          "output_type": "stream",
          "name": "stdout",
          "text": [
            "<class 'int'>\n"
          ]
        }
      ]
    },
    {
      "cell_type": "code",
      "source": [
        "bag_1 = 15\n",
        "bag_2 = 5\n",
        "\n",
        "#check if wt. of both bags should be less than 13 Kg\n",
        "#if result is false, print(\"Sorry, you can't go through\")\n",
        "#Else, if result is true, print(\"enjoy your trip\")\n",
        "bag_1 < 13 and bag_2 < 13"
      ],
      "metadata": {
        "colab": {
          "base_uri": "https://localhost:8080/"
        },
        "id": "o1M7Q6ATQd_P",
        "outputId": "bf8e0b69-b24c-4097-beb9-fb622ed7bbc3"
      },
      "execution_count": null,
      "outputs": [
        {
          "output_type": "execute_result",
          "data": {
            "text/plain": [
              "False"
            ]
          },
          "metadata": {},
          "execution_count": 6
        }
      ]
    },
    {
      "cell_type": "code",
      "source": [
        "x = 5\n",
        "x += 3   #additional operator x' = x+3\n",
        "print(x)\n",
        "x -=2    #subtraction operator x = x-2\n",
        "print(x)"
      ],
      "metadata": {
        "colab": {
          "base_uri": "https://localhost:8080/"
        },
        "id": "1HMSQEXYTPAp",
        "outputId": "e6fe2a49-7dd0-4c5c-88b5-26f8953be77c"
      },
      "execution_count": null,
      "outputs": [
        {
          "output_type": "stream",
          "name": "stdout",
          "text": [
            "8\n",
            "6\n"
          ]
        }
      ]
    },
    {
      "cell_type": "markdown",
      "source": [
        "#Identity operator\n",
        "Compares the memory address of 2 elements"
      ],
      "metadata": {
        "id": "jNj4VKmnhlEu"
      }
    },
    {
      "cell_type": "code",
      "source": [
        "A = [1,2,3]\n",
        "B = [1,2,3]\n",
        "print(A is B) #False\n",
        "print (A == B)  #True as '==' compares value not memnory"
      ],
      "metadata": {
        "colab": {
          "base_uri": "https://localhost:8080/"
        },
        "id": "RAO0C4r5g5Y7",
        "outputId": "27867468-f29c-409a-b8be-7d0980629c5d"
      },
      "execution_count": null,
      "outputs": [
        {
          "output_type": "stream",
          "name": "stdout",
          "text": [
            "False\n",
            "True\n"
          ]
        }
      ]
    },
    {
      "cell_type": "code",
      "source": [
        "a = 5\n",
        "b = a\n",
        "print(a is b) #identity operator --- same memory so true\n",
        "id(5) #memory address of 5"
      ],
      "metadata": {
        "colab": {
          "base_uri": "https://localhost:8080/"
        },
        "id": "o778TyomiVRA",
        "outputId": "d27b7072-6704-4f81-9ad5-8e726fba70ca"
      },
      "execution_count": null,
      "outputs": [
        {
          "output_type": "stream",
          "name": "stdout",
          "text": [
            "True\n"
          ]
        },
        {
          "output_type": "execute_result",
          "data": {
            "text/plain": [
              "140698129635760"
            ]
          },
          "metadata": {},
          "execution_count": 12
        }
      ]
    },
    {
      "cell_type": "markdown",
      "source": [
        "#Membership Opr -in\n",
        "to check if a particular element is available in a  sequence or not -- string, list or tuple"
      ],
      "metadata": {
        "id": "fTfooOkIj5Mf"
      }
    },
    {
      "cell_type": "code",
      "source": [
        "sentence = \"The quick brown fox jumps over the lazy dog\"\n",
        "print(\"fox\" in sentence) #true\n",
        "print(\"cat\" in sentence) #false\n",
        "\n",
        "###can use not in as well\n",
        "print(\"cat\" not in sentence)   #true\n",
        "print(\"fox\" not in sentence)   #false"
      ],
      "metadata": {
        "colab": {
          "base_uri": "https://localhost:8080/"
        },
        "id": "t2pqyhblj3b6",
        "outputId": "e15cf0cf-69b9-4306-9d81-2409861364ae"
      },
      "execution_count": null,
      "outputs": [
        {
          "output_type": "stream",
          "name": "stdout",
          "text": [
            "True\n",
            "False\n",
            "True\n",
            "False\n"
          ]
        }
      ]
    },
    {
      "cell_type": "code",
      "source": [
        "name = \"Umer Farooq\"\n",
        "print(\"r\" in name)"
      ],
      "metadata": {
        "colab": {
          "base_uri": "https://localhost:8080/"
        },
        "id": "j2QrBmV7lW4C",
        "outputId": "f0dc408b-6980-4b1e-853a-735f6464201b"
      },
      "execution_count": null,
      "outputs": [
        {
          "output_type": "stream",
          "name": "stdout",
          "text": [
            "True\n"
          ]
        }
      ]
    },
    {
      "cell_type": "code",
      "source": [
        "tupple= [\n",
        "    \"tupple is similar to list only difference - tupple is immutable - once declered can't be changed\",\n",
        "\"when need to store constants or when any other external module may accidently change the values and to stop that we use tupple\",\n",
        " \"This is formatted as code\"\n",
        "]\n",
        "print(\"tupple\" in tupple[0])"
      ],
      "metadata": {
        "colab": {
          "base_uri": "https://localhost:8080/"
        },
        "id": "F3AHGdEdl6a1",
        "outputId": "da1e32ff-19c4-4253-c299-bfec4d7dbe55"
      },
      "execution_count": null,
      "outputs": [
        {
          "output_type": "stream",
          "name": "stdout",
          "text": [
            "True\n"
          ]
        }
      ]
    },
    {
      "cell_type": "markdown",
      "source": [
        "examples"
      ],
      "metadata": {
        "id": "9hUYzriWmNzV"
      }
    },
    {
      "cell_type": "code",
      "source": [
        "list1 = [1,2,3] # \"+\" to concanate two list\n",
        "list2 = [3,4,5]\n",
        "print(list1 + list2)"
      ],
      "metadata": {
        "colab": {
          "base_uri": "https://localhost:8080/"
        },
        "id": "vmHLtGzZnr0A",
        "outputId": "4518f088-843d-482f-d188-7acd5f5c3d24"
      },
      "execution_count": null,
      "outputs": [
        {
          "output_type": "stream",
          "name": "stdout",
          "text": [
            "[1, 2, 3, 3, 4, 5]\n"
          ]
        }
      ]
    },
    {
      "cell_type": "code",
      "source": [
        "# '*' to repeat a list\n",
        "list1 = [1,2,3]\n",
        "result = list1 * 3\n",
        "print(result)"
      ],
      "metadata": {
        "colab": {
          "base_uri": "https://localhost:8080/"
        },
        "id": "2VdZ00r2oK3A",
        "outputId": "19b36fdb-4132-4036-90a1-417845a9507d"
      },
      "execution_count": null,
      "outputs": [
        {
          "output_type": "stream",
          "name": "stdout",
          "text": [
            "[1, 2, 3, 1, 2, 3, 1, 2, 3]\n"
          ]
        }
      ]
    },
    {
      "cell_type": "code",
      "source": [
        "#String concatenation\n",
        "String1 = \"hey\"\n",
        "String2 = \"boy\"\n",
        "result = String1 + String2\n",
        "print(result)\n",
        "\n",
        "\n"
      ],
      "metadata": {
        "colab": {
          "base_uri": "https://localhost:8080/"
        },
        "id": "aDgyiY_FpGE2",
        "outputId": "4f739177-6e42-49f1-e12b-1fd98b770062"
      },
      "execution_count": null,
      "outputs": [
        {
          "output_type": "stream",
          "name": "stdout",
          "text": [
            "heyboy\n"
          ]
        }
      ]
    },
    {
      "cell_type": "code",
      "source": [
        "String1 = \"hey\"\n",
        "String2 = \"boy\"\n",
        "result = String1 + \" \" + String2  #+ and space b/w \"\"\n",
        "print(result)"
      ],
      "metadata": {
        "colab": {
          "base_uri": "https://localhost:8080/"
        },
        "id": "BiO8WrAFptVK",
        "outputId": "a6fed168-2d97-4bf6-97da-5937697a0476"
      },
      "execution_count": null,
      "outputs": [
        {
          "output_type": "stream",
          "name": "stdout",
          "text": [
            "hey boy\n"
          ]
        }
      ]
    },
    {
      "cell_type": "code",
      "source": [
        "#REPEATATION STRING\n",
        "string = \"harry\"\n",
        "result = string * 3\n",
        "print(result)"
      ],
      "metadata": {
        "colab": {
          "base_uri": "https://localhost:8080/"
        },
        "id": "MEP9FJOBFs0X",
        "outputId": "12e112fa-7243-45f8-a50a-77204d1f12c1"
      },
      "execution_count": null,
      "outputs": [
        {
          "output_type": "stream",
          "name": "stdout",
          "text": [
            "harryharryharry\n"
          ]
        }
      ]
    },
    {
      "cell_type": "code",
      "source": [
        "# tuples concatenation\n",
        "tuple1 = (22, 33, 44)\n",
        "tuple2 = (55, 66, 77)\n",
        "result = tuple1 + tuple2\n",
        "print(result)\n",
        "\n",
        "#tuple repeat\n",
        "result2 = tuple2 *3\n",
        "print(result2)"
      ],
      "metadata": {
        "colab": {
          "base_uri": "https://localhost:8080/"
        },
        "id": "fkfaObxDG7MK",
        "outputId": "1f1d068f-5bf1-4e98-a4fc-1e5ba9a682da"
      },
      "execution_count": null,
      "outputs": [
        {
          "output_type": "stream",
          "name": "stdout",
          "text": [
            "(22, 33, 44, 55, 66, 77)\n",
            "(55, 66, 77, 55, 66, 77, 55, 66, 77)\n"
          ]
        }
      ]
    },
    {
      "cell_type": "code",
      "source": [
        "#use 'del' to remove a keyword to remove an element from a dictionary\n",
        "my_dict = {\"apple\" :3, \"banana\" :4, \"guava\" : 5}\n",
        "del my_dict [ \"banana\" ]\n",
        "print(my_dict)"
      ],
      "metadata": {
        "colab": {
          "base_uri": "https://localhost:8080/"
        },
        "id": "72iBN0P-IIMX",
        "outputId": "77ab70b3-0234-450c-bb3c-0cef8bcd9d3d"
      },
      "execution_count": null,
      "outputs": [
        {
          "output_type": "stream",
          "name": "stdout",
          "text": [
            "{'apple': 3, 'guava': 5}\n"
          ]
        }
      ]
    },
    {
      "cell_type": "code",
      "source": [
        "my_dict = {\"apple\" :3, \"banana\" :4, \"guava\" : 5}\n",
        "print(\"apple\" in my_dict)\n",
        "print(\"mango\" in my_dict)\n"
      ],
      "metadata": {
        "colab": {
          "base_uri": "https://localhost:8080/"
        },
        "id": "QZNAGhw9JqT7",
        "outputId": "da4c2e63-d1ee-4782-d51f-22921d2ba26d"
      },
      "execution_count": null,
      "outputs": [
        {
          "output_type": "stream",
          "name": "stdout",
          "text": [
            "True\n",
            "False\n"
          ]
        }
      ]
    },
    {
      "cell_type": "code",
      "source": [
        "#copying  DICTONARY\n",
        "my_dict = {\"apple\" :3, \"banana\" :4, \"guava\" : 5}\n",
        "new_dict = my_dict.copy()\n",
        "print(new_dict)\n",
        "\n",
        "del new_dict[\"guava\"]\n",
        "\n",
        "print(new_dict)\n",
        "\n",
        "print(my_dict)\n",
        "\n"
      ],
      "metadata": {
        "colab": {
          "base_uri": "https://localhost:8080/"
        },
        "id": "BY42wUKFKcV5",
        "outputId": "ceb49ab9-da14-425d-ba9a-ed990e400d33"
      },
      "execution_count": null,
      "outputs": [
        {
          "output_type": "stream",
          "name": "stdout",
          "text": [
            "{'apple': 3, 'banana': 4, 'guava': 5}\n",
            "{'apple': 3, 'banana': 4}\n",
            "{'apple': 3, 'banana': 4, 'guava': 5}\n"
          ]
        }
      ]
    },
    {
      "cell_type": "code",
      "source": [
        "#clear is used to remove the all elemts from dict\n",
        "\n",
        "my_dict = {\"apple\" :3, \"banana\" :4, \"guava\" : 5}\n",
        "\n",
        "my_dict.clear()\n",
        "\n",
        "print(my_dict)"
      ],
      "metadata": {
        "colab": {
          "base_uri": "https://localhost:8080/"
        },
        "id": "XN47Q87nLseq",
        "outputId": "28854bcc-1ce8-4999-e0ff-58a436e3861b"
      },
      "execution_count": null,
      "outputs": [
        {
          "output_type": "stream",
          "name": "stdout",
          "text": [
            "{}\n"
          ]
        }
      ]
    },
    {
      "cell_type": "code",
      "source": [
        "set_a = {2, 4, 6}\n",
        "set_b = {2, 3, 4}\n",
        "\n",
        "#union opeartor |\n",
        "print( set_a | set_b )\n",
        "\n",
        "#intersection opr\n",
        "print( set_a & set_b )\n",
        "\n",
        "#difference opr\n",
        "print( set_a - set_b )\n",
        "\n",
        "\n"
      ],
      "metadata": {
        "colab": {
          "base_uri": "https://localhost:8080/"
        },
        "id": "az50F3-mNYqN",
        "outputId": "8e64308b-d720-4d68-d6c0-d8290b277a51"
      },
      "execution_count": null,
      "outputs": [
        {
          "output_type": "stream",
          "name": "stdout",
          "text": [
            "{2, 3, 4, 6}\n",
            "{2, 4}\n",
            "{6}\n"
          ]
        }
      ]
    },
    {
      "cell_type": "code",
      "source": [
        "books = [\n",
        "    \"Python for Data Science Handbook by Jake VanderPlas\",\n",
        "    \"The Pragmatic Programmer by Andrew Hunt and David Thomas\",\n",
        "    \"Python Machine Learning by Sebastian Raschka\",\n",
        "    \"The Alchemist by Paulo Coelho\",\n",
        "]"
      ],
      "metadata": {
        "id": "8LFVk1nsfFBw"
      },
      "execution_count": null,
      "outputs": []
    },
    {
      "cell_type": "code",
      "source": [],
      "metadata": {
        "id": "Aw0YqNY4fGCC"
      },
      "execution_count": null,
      "outputs": []
    }
  ],
  "metadata": {
    "colab": {
      "provenance": [],
      "authorship_tag": "ABX9TyMNSepnMrfK3/tGBGOjjwqr",
      "include_colab_link": true
    },
    "kernelspec": {
      "display_name": "Python 3",
      "name": "python3"
    },
    "language_info": {
      "name": "python"
    }
  },
  "nbformat": 4,
  "nbformat_minor": 0
}